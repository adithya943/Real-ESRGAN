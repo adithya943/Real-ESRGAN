{
 "cells": [
  {
   "cell_type": "markdown",
   "metadata": {},
   "source": [
    "# Visulization"
   ]
  },
  {
   "cell_type": "code",
   "execution_count": 1,
   "metadata": {},
   "outputs": [
    {
     "name": "stdout",
     "output_type": "stream",
     "text": [
      "Testing 0 test\n",
      "Testing 0 test\n",
      "Testing 0 test\n",
      "Testing 0 test\n",
      "Testing 0 test\n",
      "^C\n",
      "Testing 0 test\n"
     ]
    }
   ],
   "source": [
    "import glob\n",
    "ROOT = \"/home/adithya/adithya/Real-ESRGAN/experiments/finetune_BLM+OLD+BRU+UNIx2_vanilla\"\n",
    "weights = glob.glob(f'{ROOT}/models/net_g_*')\n",
    "for weight in weights:\n",
    "    weight_name = weight.split('/')[-1].split('.')[0]\n",
    "    suffix = weight_name.split('_')[2]\n",
    "    !python inference_realesrgan.py -n RealESRGAN_x2plus --custom finetune_BLM+OLD+BRU+UNIx2_vanilla/models/{weight_name}.pth -i inputs/single  --outscale 2 --half --face_enhance -o results/single --suffix {suffix}"
   ]
  },
  {
   "cell_type": "code",
   "execution_count": null,
   "metadata": {},
   "outputs": [],
   "source": [
    "import cv2\n",
    "from tqdm import tqdm\n",
    "import glob\n",
    "def create_visualization(root:str, scale:int):\n",
    "    # choose codec according to format needed\n",
    "    width = height = 512*scale\n",
    "    fourcc = cv2.VideoWriter_fourcc(*'mp4v') \n",
    "    video = cv2.VideoWriter(f'{root}/video.avi', fourcc, 1, (width, height))\n",
    "    lbls = ['model_weights']\n",
    "    font = cv2.FONT_HERSHEY_SIMPLEX\n",
    "    # img_list\n",
    "    img_list = glob.glob(f'{root}/*')\n",
    "    for img_path in tqdm(img_list):\n",
    "        img = cv2.imread(img_path)\n",
    "        name = img_path.split('/')[-1]\n",
    "        offset = 0\n",
    "        for itr, word in enumerate(lbls):\n",
    "            offset += int(height / len(lbls)) - 10\n",
    "            cv2.putText(img, f\"{word}:{name}\", (20, offset), font, 1, (0, 255, 0), 3)\n",
    "        video.write(img)"
   ]
  },
  {
   "cell_type": "code",
   "execution_count": null,
   "metadata": {},
   "outputs": [
    {
     "name": "stderr",
     "output_type": "stream",
     "text": [
      "100%|██████████| 19/19 [00:00<00:00, 34.89it/s]\n"
     ]
    }
   ],
   "source": [
    "create_visualization('/home/adithya/adithya/Real-ESRGAN/results/single', 2)"
   ]
  },
  {
   "cell_type": "code",
   "execution_count": null,
   "metadata": {},
   "outputs": [],
   "source": []
  }
 ],
 "metadata": {
  "interpreter": {
   "hash": "d2f38940e96c3d58a842525234b2330cd9d098a973f1d0061d3b0e954fcc5d6a"
  },
  "kernelspec": {
   "display_name": "Python 3.8.13 ('monolith')",
   "language": "python",
   "name": "python3"
  },
  "language_info": {
   "codemirror_mode": {
    "name": "ipython",
    "version": 3
   },
   "file_extension": ".py",
   "mimetype": "text/x-python",
   "name": "python",
   "nbconvert_exporter": "python",
   "pygments_lexer": "ipython3",
   "version": "3.8.13"
  },
  "orig_nbformat": 4
 },
 "nbformat": 4,
 "nbformat_minor": 2
}
